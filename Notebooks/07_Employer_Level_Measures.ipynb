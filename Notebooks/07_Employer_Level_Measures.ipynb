{
 "cells": [
  {
   "cell_type": "markdown",
   "metadata": {},
   "source": [
    "<center>\n",
    "<img style=\"float: center;\" src=\"images/CI_horizontal.png\" width=\"400\">\n",
    "</center>\n",
    "<center>\n",
    "    <span style=\"font-size: 1.5em;\">\n",
    "        <a href='https://www.coleridgeinitiative.org'>Website</a>\n",
    "    </span>\n",
    "</center>\n",
    "\n",
    "<center> Julia Lane, Clayton Hunter, Brian Kim, Benjamin Feder, Ekaterina Levitskaya, Tian Lou, Lisa Osorio-Copete. \n",
    "</center>"
   ]
  },
  {
   "cell_type": "markdown",
   "metadata": {},
   "source": [
    "# Using Employment and Employer-Level Measures to Understand Indiana's Labor Market"
   ]
  },
  {
   "cell_type": "markdown",
   "metadata": {},
   "source": [
    "## Introduction\n",
    "\n",
    "While in the [Data Exploration](Data_Exploration.ipynb) notebook we focused primarily on understanding our cohort's earnings, here we will first look at two measures of stable employment before switching gears to the demand side of employment: the employers. For the second part of this notebook, we will analyze some employer-level measures created in a supplementary [notebook](Create_Employer_Characteristics.ipynb) to get a better sense of Indiana's labor market and how employers of individuals in our cohort fit into the overall labor market."
   ]
  },
  {
   "cell_type": "markdown",
   "metadata": {},
   "source": [
    "### Learning Objectives\n",
    "\n",
    "We will cover two prominent analyses:\n",
    "\n",
    "1. Different measures of stable employment\n",
    "1. Labor market interactions\n",
    "\n",
    "These two sections will have two different units of analysis: the first will focus directly on the individuals in our cohort, and then will switch onto their employers. \n",
    "\n",
    "Before we start looking at their employers, a logical prelude would be taking a deeper dive into our cohort's employment. Here, we will walk through two different measures of stable employment within a cohort and see if their earnings differed significantly from those without stable employment. From there, we will load in our employer-level measures file and look at the differences in employers of members in our cohort who experienced different levels in employment.\n",
    "\n",
    "We would like to find out if there are any distinguishing factors between the overall labor market in Indiana and the employers that hired members of our 2016Q4 cohort. Ultimately, we want to gain a better understanding of the demand side when it comes to employment opportunities for our TANF leavers.\n",
    "\n",
    "Similar to the [Data Exploration](Data_Exploration.ipynb) notebook, we will pose a few direct questions we will use to answer our ultimate question: **How can we use labor market interactions to help explain employment outcomes of TANF leavers?**\n",
    "\n",
    "Before we do so, we need to load our external R packages and connect to the database."
   ]
  },
  {
   "cell_type": "markdown",
   "metadata": {},
   "source": [
    "### R Setup"
   ]
  },
  {
   "cell_type": "code",
   "execution_count": null,
   "metadata": {},
   "outputs": [],
   "source": [
    "#database interaction imports\n",
    "library(DBI)\n",
    "library(RPostgreSQL)\n",
    "\n",
    "# for data manipulation/visualization\n",
    "library(tidyverse)\n",
    "\n",
    "# scaling data\n",
    "library(scales)"
   ]
  },
  {
   "cell_type": "code",
   "execution_count": null,
   "metadata": {},
   "outputs": [],
   "source": [
    "# create an RPostgreSQL driver\n",
    "drv <- dbDriver(\"PostgreSQL\")\n",
    "\n",
    "# connect to the database\n",
    "con <- dbConnect(drv,dbname = \"postgresql://stuffed.adrf.info/appliedda\")"
   ]
  },
  {
   "cell_type": "markdown",
   "metadata": {},
   "source": [
    "## Stable Employment Measures\n",
    "\n",
    "As discussed above, we will spend some time in this section taking a look at our 2016Q4 cohort's employment outcomes. We will examine two different defintions of stable employment and see how average quarterly earnings differ for individuals who satisfy these definitions of stable employment. We have listed the two questions we will seek to answer in this section below:\n",
    "\n",
    "1. How many leavers found stable employment? What percentage is this of our total cohort?\n",
    "1. What were the average quarterly earnings within these stable jobs?\n",
    "\n",
    "Let's first load our table matching our 2016Q4 cohort to their employment outcomes into R."
   ]
  },
  {
   "cell_type": "code",
   "execution_count": null,
   "metadata": {},
   "outputs": [],
   "source": [
    "# read table into R\n",
    "qry = \"\n",
    "select *\n",
    "from ada_tdc_2020.cohort_2016_earnings\n",
    "\"\n",
    "df_2016_wages = dbGetQuery(con, qry)"
   ]
  },
  {
   "cell_type": "code",
   "execution_count": null,
   "metadata": {},
   "outputs": [],
   "source": [
    "# take a look at df_2016_wages\n",
    "glimpse(df_2016_wages)"
   ]
  },
  {
   "cell_type": "markdown",
   "metadata": {},
   "source": [
    "Now, we're ready to start answering our first guiding question for this section."
   ]
  },
  {
   "cell_type": "markdown",
   "metadata": {},
   "source": [
    "<font color=green><h3>Question 1: How many leavers found stable employment? What percentage is this of our total cohort? </h3></font> \n",
    "\n",
    "How would you define stable employment? In fact, it is quite a subjective measure. Here are the two definitions of stable employment we will look at: \n",
    "\n",
    "1. Those with positive earnings all four quarters after exit with the same employer\n",
    "2. Those that experienced full-quarter employment. By full-quarter employment, an individual had earnings in quarters t-1, t, and t+1 from the same employer.\n",
    "\n",
    "> These are not the only two, but just two common measures of stable employment. If you choose to analyze stable employment within a specific cohort (highly recommended), make sure you clearly state your definition of stable employment."
   ]
  },
  {
   "cell_type": "markdown",
   "metadata": {},
   "source": [
    "### Stable Employment Measure #1: Positive earnings all four quarters with the same employer\n",
    "\n",
    "This calculation is relatively simple given that we have to just manipulate `df_2016_wages`. We will approach this calculation by counting the number of quarters each individual (`ssn`) received wages from each employer (`uiacct`), and then filter for just those `ssn`/`uiacct` combinations that appear in all four quarters in 2017."
   ]
  },
  {
   "cell_type": "code",
   "execution_count": null,
   "metadata": {},
   "outputs": [],
   "source": [
    "# see if we can calculate stable employment measure #1\n",
    "df_2016_wages %>%\n",
    "    group_by(ssn, uiacct) %>%\n",
    "    summarize(n_quarters = n_distinct(quarter)\n",
    "    ) %>%\n",
    "    ungroup() %>%\n",
    "    filter(n_quarters==4) %>%\n",
    "    head()"
   ]
  },
  {
   "cell_type": "markdown",
   "metadata": {},
   "source": [
    "From here, we can add one line of code `summarize(n_distinct(ssn))` to calculate the number of individuals in our cohort that experienced this measure of stable employment."
   ]
  },
  {
   "cell_type": "code",
   "execution_count": null,
   "metadata": {},
   "outputs": [],
   "source": [
    "# calculate number of individuals in our cohort that experienced stable employment measure #1\n",
    "df_2016_wages %>%\n",
    "    group_by(ssn, uiacct) %>%\n",
    "    summarize(n_quarters = n_distinct(quarter)\n",
    "    ) %>%\n",
    "    ungroup() %>%\n",
    "    filter(n_quarters==4) %>%\n",
    "    summarize(n_distinct(ssn))"
   ]
  },
  {
   "cell_type": "markdown",
   "metadata": {},
   "source": [
    "If you are curious about the amount of members of our cohort that found stable employment (according to this defintion) with multiple employers, you can do so with a few more lines of code."
   ]
  },
  {
   "cell_type": "code",
   "execution_count": null,
   "metadata": {},
   "outputs": [],
   "source": [
    "# see if we can calculate stable employment measure #1\n",
    "df_2016_wages %>%\n",
    "    group_by(ssn, uiacct) %>%\n",
    "    summarize(n_quarters = n_distinct(quarter)\n",
    "    ) %>%\n",
    "    ungroup() %>%\n",
    "    filter(n_quarters==4) %>%\n",
    "    group_by(ssn) %>%\n",
    "    summarize(n=n()) %>%\n",
    "    ungroup() %>%\n",
    "    filter(n>1) %>%\n",
    "    summarize(num=n())"
   ]
  },
  {
   "cell_type": "markdown",
   "metadata": {},
   "source": [
    "Anyways, we can calculate the percentage of our cohort that experienced stable employment within this time frame pretty easily now--we just need to load our original cohort into R as a frame of reference."
   ]
  },
  {
   "cell_type": "code",
   "execution_count": null,
   "metadata": {},
   "outputs": [],
   "source": [
    "# 2016Q4 cohort with most recent case information\n",
    "qry <- \"\n",
    "SELECT *\n",
    "FROM ada_tdc_2020.cohort_2016\n",
    "\"\n",
    "\n",
    "#read into R as df\n",
    "df_2016 <- dbGetQuery(con,qry)"
   ]
  },
  {
   "cell_type": "code",
   "execution_count": null,
   "metadata": {},
   "outputs": [],
   "source": [
    "# save to calculate stable employment percentage\n",
    "stable <- df_2016_wages %>%\n",
    "    group_by(ssn, uiacct) %>%\n",
    "    summarize(n_quarters = n_distinct(quarter)\n",
    "    ) %>%\n",
    "    ungroup() %>%\n",
    "    filter(n_quarters==4) %>%\n",
    "    summarize(num = n_distinct(ssn))"
   ]
  },
  {
   "cell_type": "code",
   "execution_count": null,
   "metadata": {},
   "outputs": [],
   "source": [
    "# percentage employed all four quarters\n",
    "percent((stable$num/n_distinct(df_2016$ssn)), .01)"
   ]
  },
  {
   "cell_type": "markdown",
   "metadata": {},
   "source": [
    "Now, let's see how the percentage changes when we use our second definition of stable employment."
   ]
  },
  {
   "cell_type": "markdown",
   "metadata": {},
   "source": [
    "### Stable Employment Measure #2: Full-Quarter Employment\n",
    "\n",
    "Finding full-quarter employment is a bit more complicated. Instead of using R, we will venture back into SQL, since we will need to find earnings for our cohort from 2016Q4 through 2018Q1 to calculate if an individual experienced full-quarter employment some time in 2017. We have already created this table, named `full_q_wages_2016` in the `ada_tdc_2020` schema for you using the code below:\n",
    "> To satisfy full-quarter employment in 2017Q1, an individual needed to have earnings from the same employer in 2016Q4, 2017Q1, and 2017Q2. Therefore, if we want to see all full-quarter employment from 2017Q1 to 2017Q4, we would need all earnings data from 2016Q4 to 2018Q1."
   ]
  },
  {
   "cell_type": "markdown",
   "metadata": {},
   "source": [
    "    create table ada_tdc_2020.full_q_wages_2016 as\n",
    "    select a.ssn, a.tanf_spell_months, a.tanf_total_months, a.county,\n",
    "    b.year, b.quarter, b.uiacct, b.wages, b.naics_3_digit, b.cnty, \n",
    "    format('%s-%s-1', b.year, b.quarter*3-2)::date as job_yr_q\n",
    "    from ada_tdc_2020.cohort_2016 a\n",
    "    left join in_dwd.wage_by_employer b\n",
    "    on a.ssn = b.ssn\n",
    "    where b.year = 2017 or (b.year = 2016 and b.quarter = 4) or (b.year=2018 and b.quarter=1)"
   ]
  },
  {
   "cell_type": "code",
   "execution_count": null,
   "metadata": {},
   "outputs": [],
   "source": [
    "# get earnings for our cohort from 2016Q4-2018Q1\n",
    "qry = '\n",
    "select *\n",
    "from ada_tdc_2020.full_q_wages_2016\n",
    "limit 5\n",
    "'\n",
    "dbGetQuery(con, qry)"
   ]
  },
  {
   "cell_type": "markdown",
   "metadata": {},
   "source": [
    "Now that we have earnings for our cohort from 2016Q4-2018Q1, we can calculate full-quarter employment. To do so, we will use three copies of the same table, and then use a `WHERE` clause to make sure we are identifying the same individual and employer combination across three consecutive quarters.\n",
    "\n",
    "The `\\'3 month\\'::interval` code can be used when working with dates (`job_yr_q` in this case), as it will match to exactly three months from the original date. Before or after the original date can be indicated with `+` or `-` signs."
   ]
  },
  {
   "cell_type": "code",
   "execution_count": null,
   "metadata": {},
   "outputs": [],
   "source": [
    "# see if we can calculate full-quarter employment\n",
    "qry = '\n",
    "select a.ssn, a.uiacct, a.job_yr_q, a.wages\n",
    "from ada_tdc_2020.full_q_wages_2016 a, ada_tdc_2020.full_q_wages_2016 b, ada_tdc_2020.full_q_wages_2016 c\n",
    "where a.ssn = b.ssn and a.uiacct=b.uiacct and\n",
    "a.ssn = c.ssn and a.uiacct = c.uiacct and a.job_yr_q = (b.job_yr_q - \\'3 month\\'::interval)::date and \n",
    "a.job_yr_q = (c.job_yr_q + \\'3 month\\'::interval)::date\n",
    "order by a.ssn, a.job_yr_q\n",
    "limit 5\n",
    "'\n",
    "dbGetQuery(con, qry)"
   ]
  },
  {
   "cell_type": "markdown",
   "metadata": {},
   "source": [
    "The query above will only select earnings for quarters where an individual experienced full-quarter employment with an employer, and due to the `WHERE` clause, it will only select full-quarter employment in 2017, and won't include those who experienced full quarter employment in 2016Q4 or 2018Q1."
   ]
  },
  {
   "cell_type": "code",
   "execution_count": null,
   "metadata": {},
   "outputs": [],
   "source": [
    "# read full-quarter employment into r as cohort_2016_full\n",
    "qry = '\n",
    "select a.ssn, a.uiacct, a.job_yr_q, a.wages\n",
    "from ada_tdc_2020.full_q_wages_2016 a, ada_tdc_2020.full_q_wages_2016 b, ada_tdc_2020.full_q_wages_2016 c\n",
    "where a.ssn = b.ssn and a.uiacct=b.uiacct and\n",
    "a.ssn = c.ssn and a.uiacct = c.uiacct and a.job_yr_q = (b.job_yr_q - \\'3 month\\'::interval)::date and \n",
    "a.job_yr_q = (c.job_yr_q + \\'3 month\\'::interval)::date\n",
    "order by a.ssn, a.job_yr_q\n",
    "'\n",
    "cohort_2016_full <- dbGetQuery(con, qry)"
   ]
  },
  {
   "cell_type": "markdown",
   "metadata": {},
   "source": [
    "Now that we have all records of full-quarter employment, along with their earnings in the quarter, we can easily calculate the number of individuals in our cohort who experienced our second measure of stable employment in at least one quarter."
   ]
  },
  {
   "cell_type": "code",
   "execution_count": null,
   "metadata": {},
   "outputs": [],
   "source": [
    "# calculate number of individuals in our cohort that experienced full-quarter employment\n",
    "cohort_2016_full %>%\n",
    "    summarize(n=n_distinct(ssn))"
   ]
  },
  {
   "cell_type": "code",
   "execution_count": null,
   "metadata": {},
   "outputs": [],
   "source": [
    "# save number of individuals in our cohort that experienced full-quarter employment\n",
    "full_n <- cohort_2016_full %>%\n",
    "    summarize(n=n_distinct(ssn))"
   ]
  },
  {
   "cell_type": "code",
   "execution_count": null,
   "metadata": {},
   "outputs": [],
   "source": [
    "# calculate proportion of people in our cohort that experienced full-quarter employment\n",
    "percent((full_n$n/n_distinct(df_2016$ssn)), .01)"
   ]
  },
  {
   "cell_type": "markdown",
   "metadata": {},
   "source": [
    "We can also calculate the percentage of individuals in our cohort that experienced full quarter employment with the same employer in all four quarters."
   ]
  },
  {
   "cell_type": "code",
   "execution_count": null,
   "metadata": {},
   "outputs": [],
   "source": [
    "cohort_2016_full %>%\n",
    "    group_by(ssn, uiacct) %>%\n",
    "    summarize(n_quarters = n_distinct(job_yr_q)) %>%\n",
    "    ungroup() %>%\n",
    "    filter(n_quarters == 4) %>%\n",
    "    summarize(n=n_distinct(ssn))"
   ]
  },
  {
   "cell_type": "markdown",
   "metadata": {},
   "source": [
    "And then we can calculate this percentage."
   ]
  },
  {
   "cell_type": "code",
   "execution_count": null,
   "metadata": {},
   "outputs": [],
   "source": [
    "# save as full_4\n",
    "full_4 <- cohort_2016_full %>%\n",
    "    group_by(ssn, uiacct) %>%\n",
    "    summarize(n_quarters = n_distinct(job_yr_q)) %>%\n",
    "    ungroup() %>%\n",
    "    filter(n_quarters == 4) %>%\n",
    "    summarize(n=n_distinct(ssn))"
   ]
  },
  {
   "cell_type": "code",
   "execution_count": null,
   "metadata": {},
   "outputs": [],
   "source": [
    "percent((full_4$n/n_distinct(df_2016$ssn)), .01)"
   ]
  },
  {
   "cell_type": "markdown",
   "metadata": {},
   "source": [
    "If you're curious, we can see if anyone experienced full quarter employment all four quarters with multiple employers as well."
   ]
  },
  {
   "cell_type": "code",
   "execution_count": null,
   "metadata": {},
   "outputs": [],
   "source": [
    "# save as full_4\n",
    "cohort_2016_full %>%\n",
    "    group_by(ssn, uiacct) %>%\n",
    "    summarize(n_quarters = n_distinct(job_yr_q)) %>%\n",
    "    ungroup() %>%\n",
    "    filter(n_quarters == 4) %>%\n",
    "    group_by(ssn) %>%\n",
    "    summarize(n_emps = n_distinct(uiacct)) %>%\n",
    "    filter(n_emps > 1) %>%\n",
    "    summarize(n=n_distinct(ssn))"
   ]
  },
  {
   "cell_type": "markdown",
   "metadata": {},
   "source": [
    "Are you surprised at the difference in percentages for our two measures of stable employment?"
   ]
  },
  {
   "cell_type": "markdown",
   "metadata": {},
   "source": [
    "<font color=red><h3> Checkpoint 1: Recreate for 2009Q1 </h3></font> \n",
    "\n",
    "Find the percentage of our 2009Q1 cohort that experienced stable employment using these two metrics. How do they compare? Does this surprise you?"
   ]
  },
  {
   "cell_type": "code",
   "execution_count": null,
   "metadata": {},
   "outputs": [],
   "source": [
    "# How many individuals satisfy stable employment measure #1?\n"
   ]
  },
  {
   "cell_type": "code",
   "execution_count": null,
   "metadata": {},
   "outputs": [],
   "source": [
    "# What percentage of our cohort satisfies stable employment measure #1?\n"
   ]
  },
  {
   "cell_type": "code",
   "execution_count": null,
   "metadata": {},
   "outputs": [],
   "source": [
    "# How many individuals satisfy stable employment measure #2?\n",
    "\n",
    "# Use table \"ada_tdc_2020.full_q_wages_2009\"\n"
   ]
  },
  {
   "cell_type": "code",
   "execution_count": null,
   "metadata": {},
   "outputs": [],
   "source": [
    "# What percentage of our cohort satisfies stable employment measure #2 for at least one quarter?\n"
   ]
  },
  {
   "cell_type": "markdown",
   "metadata": {},
   "source": [
    "<font color=green><h3>Question 2: What were the average quarterly earnings within these stable jobs?</h3></font> \n",
    "\n",
    "Let's see if earnings differed for our cohort when comparing our two measures of stable employment. "
   ]
  },
  {
   "cell_type": "markdown",
   "metadata": {},
   "source": [
    "### Stable Employment Measure #1: Average Quarterly Earnings\n",
    "\n",
    "We'll start with our first measure of those that had earnings with the same employer for all four quarters within our time frame. First, we will isolate all `ssn`/`uiacct` combinations that satisfied this stable employment measure, and then filter our original earnings data frame `df_2016_wages` to just include wages for these combinations."
   ]
  },
  {
   "cell_type": "code",
   "execution_count": null,
   "metadata": {},
   "outputs": [],
   "source": [
    "# all ssn and uiacct values from stable employment measure #1 and save to stable_emp_1\n",
    "stable_emp_1 <- df_2016_wages %>%\n",
    "    group_by(ssn, uiacct) %>%\n",
    "    summarize(n_quarters = n_distinct(quarter)\n",
    "    ) %>%\n",
    "    ungroup() %>%\n",
    "    filter(n_quarters==4) %>%\n",
    "    select(-n_quarters)"
   ]
  },
  {
   "cell_type": "markdown",
   "metadata": {},
   "source": [
    "> The code used to create `stable_emp_1` is copied from the code used earlier to isolate those who had earnings with the same employer for all four quarters within our time frame, with the addition of the last line so we don't store the number of quarters for which they were employed (which is always four in this case anyways)."
   ]
  },
  {
   "cell_type": "code",
   "execution_count": null,
   "metadata": {},
   "outputs": [],
   "source": [
    "# see stable_emp_1\n",
    "head(stable_emp_1)"
   ]
  },
  {
   "cell_type": "markdown",
   "metadata": {},
   "source": [
    "Now, we just need to `inner_join` rows in `df_2016_wages` for those with the same `uiacct` and `ssn` combinations as in `stable_emp_1`, and then we can find the average quarterly earnings."
   ]
  },
  {
   "cell_type": "code",
   "execution_count": null,
   "metadata": {},
   "outputs": [],
   "source": [
    "# find average quarterly earnings for these individuals\n",
    "df_2016_wages %>%\n",
    "    inner_join(stable_emp_1, by = c('uiacct', 'ssn')) %>%\n",
    "    summarize(mean_wages = mean(wages))"
   ]
  },
  {
   "cell_type": "markdown",
   "metadata": {},
   "source": [
    "### Stable Employment Measure #2: Average Quarterly Earnings\n",
    "\n",
    "For our second stable employment measure, we have already identified `ssn`/`uiacct`/`job_yr_q` combinations for full-quarter employment. We will use a similar strategy in joining `df_2016_wages` before finding the average quarterly earnings for quarters in which members of our cohort experienced full-quarter employment."
   ]
  },
  {
   "cell_type": "code",
   "execution_count": null,
   "metadata": {},
   "outputs": [],
   "source": [
    "# see cohort_2016_full\n",
    "head(cohort_2016_full)"
   ]
  },
  {
   "cell_type": "code",
   "execution_count": null,
   "metadata": {},
   "outputs": [],
   "source": [
    "# find average quarterly earnings for stable employment measure 2\n",
    "df_2016_wages %>%\n",
    "    inner_join(cohort_2016_full, by = c('uiacct', 'ssn', 'job_yr_q') %>%\n",
    "    summarize(mean_wages = mean(wages))"
   ]
  },
  {
   "cell_type": "markdown",
   "metadata": {},
   "source": [
    "<font color=red><h3> Checkpoint 2: Wages in Stable Employment for the 2009Q1 Cohort</h3></font> \n",
    "\n",
    "Find the average quarterly wages for those in our 2009Q1 cohort that experienced stable employment using the two defintions above."
   ]
  },
  {
   "cell_type": "code",
   "execution_count": null,
   "metadata": {},
   "outputs": [],
   "source": [
    "# average quarterly wages under stable employment measure #1\n",
    "\n"
   ]
  },
  {
   "cell_type": "code",
   "execution_count": null,
   "metadata": {},
   "outputs": [],
   "source": [
    "# average quarterly wages under stable employment measure #2\n",
    "\n"
   ]
  },
  {
   "cell_type": "markdown",
   "metadata": {},
   "source": [
    "## Indiana's Employers\n",
    "\n",
    "In this section, we'll look at the characteristics of Indiana's employers. First, let's load in and take a quick look at our employer-level characteristics file `employers_2017` (located in the `ada_tdc_2020` schema for all employers in each quarter of 2017."
   ]
  },
  {
   "cell_type": "markdown",
   "metadata": {},
   "source": [
    "### Load the dataset"
   ]
  },
  {
   "cell_type": "markdown",
   "metadata": {},
   "source": [
    "Before we get started answering these questions, let's load and then take a look at this file."
   ]
  },
  {
   "cell_type": "code",
   "execution_count": null,
   "metadata": {},
   "outputs": [],
   "source": [
    "# look at employer-level characteristics table\n",
    "qry <- \"\n",
    "select *\n",
    "from ada_tdc_2020.employers_2017\n",
    "limit 5\n",
    "\"\n",
    "dbGetQuery(con, qry)"
   ]
  },
  {
   "cell_type": "code",
   "execution_count": null,
   "metadata": {},
   "outputs": [],
   "source": [
    "# read into R\n",
    "qry <- \"\n",
    "select *\n",
    "from ada_tdc_2020.employers_2017\n",
    "\"\n",
    "employers <- dbGetQuery(con, qry)"
   ]
  },
  {
   "cell_type": "markdown",
   "metadata": {},
   "source": [
    "Let's see how many rows are in `employer`."
   ]
  },
  {
   "cell_type": "code",
   "execution_count": null,
   "metadata": {},
   "outputs": [],
   "source": [
    "# number of rows\n",
    "nrow(employers)"
   ]
  },
  {
   "cell_type": "markdown",
   "metadata": {},
   "source": [
    "Let's also see how many employers we have on file per quarter in 2017."
   ]
  },
  {
   "cell_type": "code",
   "execution_count": null,
   "metadata": {},
   "outputs": [],
   "source": [
    "# number of employers by quarter\n",
    "employers %>%\n",
    "    count(quarter)"
   ]
  },
  {
   "cell_type": "markdown",
   "metadata": {},
   "source": [
    "## Indiana's Employers\n",
    "\n",
    "Now that the `employers` data frame is ready for use, as in the [Data Exploration](Data_Exploration.ipynb) notebook, we will try to answer some broad questions about Indiana's labor market through some more direct questions:\n",
    "\n",
    "- What is the total number of jobs per quarter? What about total number of full quarter jobs?\n",
    "- What are the most popular industries by number of employees? What about by number of employers?\n",
    "- What is the distribution of both total and full-quarter employment of employers per quarter?\n",
    "- What is the distribution of total and average annual earnings by quarter of these employers?\n",
    "- Did average employment, hiring, and separation rates across all employers vary by quarter in 2017?"
   ]
  },
  {
   "cell_type": "markdown",
   "metadata": {},
   "source": [
    "<font color=green><h3>Question 1: What is the total number of jobs per quarter? What about total number of full quarter jobs?</h3></font> \n",
    "\n",
    "There are two columns in `employers` we will focus on to answer this set of questions: `num_employed`, which is a calculation of the number of employers, and `full_num_employed`, which is the number of full-quarter employees."
   ]
  },
  {
   "cell_type": "code",
   "execution_count": null,
   "metadata": {},
   "outputs": [],
   "source": [
    "# find number of employees and full-quarter employees\n",
    "employers %>%\n",
    "    summarize(total_jobs = sum(num_employed),\n",
    "             total_full_quarter_jobs = sum(full_num_employed, na.rm=T))"
   ]
  },
  {
   "cell_type": "markdown",
   "metadata": {},
   "source": [
    "<font color=green><h3>Question 2: What are the most popular industries by number of employees? What about by number of employers?</h3></font> \n",
    "\n",
    "Again, we will leverage the `num_employed` variable in `employers`, and this time, we will group by `naics_3_digit`."
   ]
  },
  {
   "cell_type": "code",
   "execution_count": null,
   "metadata": {},
   "outputs": [],
   "source": [
    "# 10 most popular industries\n",
    "employers %>%\n",
    "    group_by(naics_3_digit) %>%\n",
    "    summarize(num_employed = sum(num_employed)) %>%\n",
    "    arrange(desc(num_employed)) %>%\n",
    "    head(10)"
   ]
  },
  {
   "cell_type": "markdown",
   "metadata": {},
   "source": [
    "Let's use our industry crosswalk to put some names to these NAICS codes. Like in the [Data Exploration](Data_Exploration.ipynb) notebook, we can use the `naics_2017` table in the `public` schema to act as a crosswalk."
   ]
  },
  {
   "cell_type": "code",
   "execution_count": null,
   "metadata": {},
   "outputs": [],
   "source": [
    "# read naics_2017 table into R as naics\n",
    "qry = '\n",
    "select *\n",
    "from public.naics_2017\n",
    "'\n",
    "naics <- dbGetQuery(con, qry)"
   ]
  },
  {
   "cell_type": "code",
   "execution_count": null,
   "metadata": {},
   "outputs": [],
   "source": [
    "# save 10 most popular industries\n",
    "pop_naics <- employers %>%\n",
    "    group_by(naics_3_digit) %>%\n",
    "    summarize(num_employed = sum(num_employed)) %>%\n",
    "    arrange(desc(num_employed)) %>%\n",
    "    # make naics_3_digit character type instead of numeric\n",
    "    mutate(naics_3_digit = as.character(naics_3_digit)) %>%\n",
    "    head(10)"
   ]
  },
  {
   "cell_type": "markdown",
   "metadata": {},
   "source": [
    "Now that we have stored `pop_naics` as a data frame, we can `left_join()` it to `naics` to find the industries associated with each 3-digit NAICS code."
   ]
  },
  {
   "cell_type": "code",
   "execution_count": null,
   "metadata": {},
   "outputs": [],
   "source": [
    "# get industry names of most popular naics\n",
    "pop_naics %>% \n",
    "    left_join(naics, by=c('naics_3_digit' = 'naics_us_code')) %>%\n",
    "    # don't include the other columns\n",
    "    select(-c(seq_no,naics_3_digit)) %>%\n",
    "    # sort order of columns\n",
    "    select(naics_us_title, num_employed)"
   ]
  },
  {
   "cell_type": "markdown",
   "metadata": {},
   "source": [
    "Do any of these industries suprise you? Now, let's move on to our most common industries by number of employers.\n",
    "> In the following code, `n_distinct()` is used to calculate the number of unique employers in 2017, whereas `n()` calculates the number of total employers for all four quarters in 2017."
   ]
  },
  {
   "cell_type": "code",
   "execution_count": null,
   "metadata": {},
   "outputs": [],
   "source": [
    "# calculate number of distinct and total number of employers in all four quarters of 2017\n",
    "employers %>%\n",
    "    group_by(naics_3_digit) %>%\n",
    "    summarize(distinct_emp = n_distinct(uiacct),\n",
    "             num_emps = n()) %>%\n",
    "    arrange(desc(distinct_emp)) %>%\n",
    "    filter(!is.na(naics_3_digit)) %>%\n",
    "    head(10)"
   ]
  },
  {
   "cell_type": "markdown",
   "metadata": {},
   "source": [
    "Again, we can find the associated industry names with a quick join after saving the resulting data frame above."
   ]
  },
  {
   "cell_type": "code",
   "execution_count": null,
   "metadata": {},
   "outputs": [],
   "source": [
    "# calculate number of distinct and total number of employers in all four quarters of 2017\n",
    "# save to pop_naics_emps\n",
    "pop_naics_emps <- employers %>%\n",
    "    group_by(naics_3_digit) %>%\n",
    "    summarize(distinct_emp = n_distinct(uiacct),\n",
    "             num_emps = n()) %>%\n",
    "    arrange(desc(distinct_emp)) %>%\n",
    "    filter(!is.na(naics_3_digit)) %>%\n",
    "    # again make naics_3_digit character type\n",
    "    mutate(naics_3_digit = as.character(naics_3_digit)) %>%\n",
    "    head(10)"
   ]
  },
  {
   "cell_type": "code",
   "execution_count": null,
   "metadata": {},
   "outputs": [],
   "source": [
    "# get industry names of most popular naics\n",
    "pop_naics_emps %>% \n",
    "    left_join(naics, by=c('naics_3_digit' = 'naics_us_code')) %>%\n",
    "    # don't include the other columns\n",
    "    select(-c(seq_no,naics_3_digit)) %>%\n",
    "    # sort order of columns\n",
    "    select(naics_us_title, distinct_emp, num_emps)"
   ]
  },
  {
   "cell_type": "markdown",
   "metadata": {},
   "source": [
    "How does this list compare to the one of the most popular industries by number of total employees?"
   ]
  },
  {
   "cell_type": "markdown",
   "metadata": {},
   "source": [
    "<font color=green><h3>Question 3: What is the distribution of both total and full-quarter employment of employers per quarter?</h3></font> \n",
    "\n",
    "Now, instead of aggregating `num_employed` by quarter, we will simply look at the distribution of `num_employed` within each quarter. We will find the 1st, 10th, 25th, 50th, 75th, 90th and 99th percentiles."
   ]
  },
  {
   "cell_type": "code",
   "execution_count": null,
   "metadata": {},
   "outputs": [],
   "source": [
    "# find distribution of total employees by employer and quarter\n",
    "employers %>%\n",
    "    summarize('.01' = quantile(num_employed, .01, na.rm=TRUE),\n",
    "              '.1' = quantile(num_employed, .1, na.rm=TRUE),\n",
    "              '.25' = quantile(num_employed, .25, na.rm=TRUE),\n",
    "              '.5' = quantile(num_employed, .5, na.rm=TRUE),\n",
    "              '.75' = quantile(num_employed, .75, na.rm=TRUE),\n",
    "              '.9' = quantile(num_employed, .9, na.rm=TRUE),\n",
    "              '.99' = quantile(num_employed, .99, na.rm=TRUE),\n",
    "             )"
   ]
  },
  {
   "cell_type": "code",
   "execution_count": null,
   "metadata": {},
   "outputs": [],
   "source": [
    "# find distribution of full-quarter employees by employer and quarter\n",
    "employers %>%\n",
    "    summarize('01' = quantile(full_num_employed, .01, na.rm=TRUE),\n",
    "              '.1' = quantile(full_num_employed, .1, na.rm=TRUE),\n",
    "              '.25' = quantile(full_num_employed, .25, na.rm=TRUE),\n",
    "              '.5' = quantile(full_num_employed, .5, na.rm=TRUE),\n",
    "              '.75' = quantile(full_num_employed, .75, na.rm=TRUE),\n",
    "              '.9' = quantile(full_num_employed, .9, na.rm=TRUE),\n",
    "              '.99' = quantile(full_num_employed, .99, na.rm=TRUE),\n",
    "             )"
   ]
  },
  {
   "cell_type": "markdown",
   "metadata": {},
   "source": [
    "What does this tell you about the relative size of employers in Indiana?"
   ]
  },
  {
   "cell_type": "markdown",
   "metadata": {},
   "source": [
    "<font color=green><h3>Question 4: What is the distribution of total and average annual earnings by quarter of these employers?\n",
    "</h3></font> "
   ]
  },
  {
   "cell_type": "code",
   "execution_count": null,
   "metadata": {},
   "outputs": [],
   "source": [
    "# find distribution of total earnings by employer and quarter\n",
    "employers %>%\n",
    "    summarize('.01' = quantile(total_earnings, .01, na.rm=TRUE),\n",
    "              '.1' = quantile(total_earnings, .1, na.rm=TRUE),\n",
    "              '.25' = quantile(total_earnings, .25, na.rm=TRUE),\n",
    "              '.5' = quantile(total_earnings, .5, na.rm=TRUE),\n",
    "              '.75' = quantile(total_earnings, .75, na.rm=TRUE),\n",
    "              '.9' = quantile(total_earnings, .9, na.rm=TRUE),\n",
    "              '.99' = quantile(total_earnings, .99, na.rm=TRUE),\n",
    "             )"
   ]
  },
  {
   "cell_type": "code",
   "execution_count": null,
   "metadata": {},
   "outputs": [],
   "source": [
    "# find distribution of average annual earnings by employer and quarter\n",
    "employers %>%\n",
    "    summarize('.1' = quantile(avg_earnings, .1, na.rm=TRUE),\n",
    "              '.25' = quantile(avg_earnings, .25, na.rm=TRUE),\n",
    "              '.5' = quantile(avg_earnings, .5, na.rm=TRUE),\n",
    "              '.75' = quantile(avg_earnings, .75, na.rm=TRUE),\n",
    "              '.9' = quantile(avg_earnings, .9, na.rm=TRUE),\n",
    "              '.99' = quantile(avg_earnings, .99, na.rm=TRUE),\n",
    "             )"
   ]
  },
  {
   "cell_type": "markdown",
   "metadata": {},
   "source": [
    "Is this what you were expecting to see? How do overall average earnings by employees compare to average earnings within our cohort?"
   ]
  },
  {
   "cell_type": "markdown",
   "metadata": {},
   "source": [
    "<font color=green><h3>Question 5: Did average employment, hiring, and separation rates across all employers vary by quarter in 2017?</h3></font> \n",
    "\n",
    "Here, we will go back to using `group_by` and `summarize` to find our answers."
   ]
  },
  {
   "cell_type": "code",
   "execution_count": null,
   "metadata": {},
   "outputs": [],
   "source": [
    "# find mean and standard deviation of employment rates by quarter\n",
    "employers %>%\n",
    "    group_by(quarter) %>%\n",
    "    summarize(mean = mean(emp_rate, na.rm=TRUE),\n",
    "             sd = sd(emp_rate, na.rm=TRUE))"
   ]
  },
  {
   "cell_type": "code",
   "execution_count": null,
   "metadata": {},
   "outputs": [],
   "source": [
    "# find mean and standard deviation of hiring rates by quarter\n",
    "employers %>%\n",
    "    group_by(quarter) %>%\n",
    "    summarize(mean = mean(hire_rate, na.rm=TRUE),\n",
    "             sd = sd(hire_rate, na.rm=T))"
   ]
  },
  {
   "cell_type": "code",
   "execution_count": null,
   "metadata": {},
   "outputs": [],
   "source": [
    "# find mean and standard deviation of separation rates by quarter\n",
    "employers %>%\n",
    "    group_by(quarter) %>%\n",
    "    summarize(mean = mean(sep_rate, na.rm=T),\n",
    "             sd = sd(sep_rate, na.rm=T))"
   ]
  },
  {
   "cell_type": "markdown",
   "metadata": {},
   "source": [
    "Based on your knowledge of employment patterns in 2017, are these results consistent with the overall trends in the United States at the time?"
   ]
  },
  {
   "cell_type": "markdown",
   "metadata": {},
   "source": [
    "<font color=red><h3> Checkpoint 3: Understanding Our Cohort within Labor Market </h3></font> \n",
    "\n",
    "Optimally, we would like to get a better sense of who is employing our 2016 cohort - are they larger employers with lots of turnover? Do they tend to pay their employees better? Please find the answers to the questions posed in \"Indiana's Employers\" for employers that employed members of our cohort. Filter the `employers` data frame based on the `uiacct` and `quarter`."
   ]
  },
  {
   "cell_type": "code",
   "execution_count": null,
   "metadata": {},
   "outputs": [],
   "source": [
    "# guiding question 1\n",
    "\n"
   ]
  },
  {
   "cell_type": "code",
   "execution_count": null,
   "metadata": {},
   "outputs": [],
   "source": [
    "# guiding question 2\n",
    "\n"
   ]
  },
  {
   "cell_type": "code",
   "execution_count": null,
   "metadata": {},
   "outputs": [],
   "source": [
    "# guiding question 3\n",
    "\n"
   ]
  },
  {
   "cell_type": "code",
   "execution_count": null,
   "metadata": {},
   "outputs": [],
   "source": [
    "# guiding question 4\n",
    "\n"
   ]
  },
  {
   "cell_type": "code",
   "execution_count": null,
   "metadata": {},
   "outputs": [],
   "source": [
    "# guiding question 5\n",
    "\n"
   ]
  },
  {
   "cell_type": "markdown",
   "metadata": {},
   "source": [
    "In this notebook, you have explored two separate definitions of stable employment and how quarterly wages changed under the two definitions. Then, you switched over to looking at the demand side of the labor market, learning about all of Indiana's employers in 2017. \n",
    "\n",
    "After answering the final checkpoint, you will be able to compare employers of our cohort to the overall labor market in Indiana. Did you find that individuals in our cohort were not employed by certain types of employers? For your next assignment, you will repeat this analysis with our 2009Q1 cohort to better understand the labor market as it began to recover from the Great Recession."
   ]
  },
  {
   "cell_type": "code",
   "execution_count": null,
   "metadata": {},
   "outputs": [],
   "source": []
  }
 ],
 "metadata": {
  "kernelspec": {
   "display_name": "R",
   "language": "R",
   "name": "adrf_r"
  },
  "language_info": {
   "codemirror_mode": "r",
   "file_extension": ".r",
   "mimetype": "text/x-r-source",
   "name": "R",
   "pygments_lexer": "r",
   "version": "3.6.3"
  }
 },
 "nbformat": 4,
 "nbformat_minor": 4
}
