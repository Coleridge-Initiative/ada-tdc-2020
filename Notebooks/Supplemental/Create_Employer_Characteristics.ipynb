{
 "cells": [
  {
   "cell_type": "markdown",
   "metadata": {},
   "source": [
    "The goal of this notebook is to generate a slew of employer-level characteristics given a UI wage records table. We will find these employer-level characteristics for all employers with at least five unique employees in Indiana for the 2017 calendar year (2017Q1-2017Q4). We will define each employer as a unique `uiacct` value in this dataset.\n",
    "\n",
    "Here are the statistics we will find:\n",
    "\n",
    "    - Total payroll\n",
    "    - Average earnings per employee\n",
    "    - Earnings per employee at the 75th percentile\n",
    "    - Earnings per employee at the 25th percentile\n",
    "    - Industry\n",
    "    - Number of full quarter employees\n",
    "    - Total payroll for full quarter employees\n",
    "    - Average earnings per full quarter employee\n",
    "    - Employment, Separation, and Hiring Growth Rates\n",
    "    \n",
    "Our final output from this notebook is a permanent table with employer-level information spanning 2017Q1-2017Q4 for each employer with at least 5 employees in Indiana that exists in its UI wage records."
   ]
  },
  {
   "cell_type": "code",
   "execution_count": null,
   "metadata": {},
   "outputs": [],
   "source": [
    "# load packages\n",
    "library(lubridate)\n",
    "library(tidyverse)\n",
    "library(DBI)\n",
    "library(RPostgreSQL)"
   ]
  },
  {
   "cell_type": "code",
   "execution_count": null,
   "metadata": {},
   "outputs": [],
   "source": [
    "# connect to our database\n",
    "drv <- dbDriver(\"PostgreSQL\")\n",
    "con <- dbConnect(drv,dbname = \"postgresql://stuffed.adrf.info/appliedda\")"
   ]
  },
  {
   "cell_type": "markdown",
   "metadata": {},
   "source": [
    "There are some suspect `ssn` values that we will not include in this analysis. Therefore, we will create a temporary table of Indiana's UI wage records while subsetting the data to the year/quarter combinations we will need to generate this table."
   ]
  },
  {
   "cell_type": "code",
   "execution_count": null,
   "metadata": {},
   "outputs": [],
   "source": [
    "# we need all quarters we want, plus 2 before and 1 after\n",
    "qry = \"\n",
    "create temp table wages_2017 as\n",
    "select *, format('%s-%s-1', year, quarter*3-2)::date as job_yr_q\n",
    "from in_dwd.wage_by_employer\n",
    "where (year = 2017 or (year=2016 and quarter in (3,4)) or (year=2018 and quarter=1)) and\n",
    "    ssn not in REDACTED \n",
    "\"\n",
    "dbGetQuery(con, qry)"
   ]
  },
  {
   "cell_type": "markdown",
   "metadata": {},
   "source": [
    "First, we will create temporary tables of all the UI wage record information from `wages_2017` for five quarters: 2016Q4-2017Q4. We need to include information on the quarter prior to our desired start (2017Q1) since we need employment, separation, and hiring rates for 2016Q4 to calculate growth rates for these measures in 2017Q1."
   ]
  },
  {
   "cell_type": "code",
   "execution_count": null,
   "metadata": {},
   "outputs": [],
   "source": [
    "table<-c(\"q4_2016\", \"q1_2017\",\"q2_2017\",\"q3_2017\",\"q4_2017\")\n",
    "year <- c(2016, 2017, 2017, 2017, 2017)\n",
    "q <- c(4, 1, 2, 3, 4)\n",
    "for(i in 1:5){\n",
    "    qry = '\n",
    "    create temp table \"%s\" as \n",
    "    select *\n",
    "    from wages_2017\n",
    "    where quarter = %d and year = %d and uiacct is not null\n",
    "    '\n",
    "    full_qry = sprintf(qry, table[i], q[i], year[i])\n",
    "    dbExecute(con, full_qry)\n",
    "}"
   ]
  },
  {
   "cell_type": "markdown",
   "metadata": {},
   "source": [
    "Then, we will add columns to track if each `uiacct`/`ssn` combination within a given quarter exists in the wage record table the quarter before and/or the quarter after. This will be important in tracking full-quarter employment, as well as hiring and separation numbers."
   ]
  },
  {
   "cell_type": "code",
   "execution_count": null,
   "metadata": {},
   "outputs": [],
   "source": [
    "new_cols <- c('pre_emp', 'post_emp')\n",
    "\n",
    "for(col in new_cols){\n",
    "    for(i in 1:5){\n",
    "        qry='\n",
    "        ALTER TABLE \"%s\" ADD COLUMN \"%s\" int\n",
    "        '\n",
    "        full_qry = sprintf(qry,table[i], col)\n",
    "        dbExecute(con, full_qry)\n",
    "    }\n",
    "}"
   ]
  },
  {
   "cell_type": "markdown",
   "metadata": {},
   "source": [
    "After the `pre_emp` and `post_emp` columns are initialized in each of these temporary tables, we can set these as indicator variables if the `ssn`/`uiacct` combination that appeared in the UI wage records for the given year/quarter combination also existed in the previous and future quarter."
   ]
  },
  {
   "cell_type": "code",
   "execution_count": null,
   "metadata": {},
   "outputs": [],
   "source": [
    "# order employment flags properly for 0-5 index below\n",
    "preYr = c(2016, 2016, 2017, 2017, 2017)\n",
    "preQ = c(3, 4, 1, 2, 3)\n",
    "\n",
    "# loop through an integer list\n",
    "# 0 is 4th lag (4 quarters ago)\n",
    "\n",
    "for(i in 1:5){\n",
    "    # update this quarter employment flag\n",
    "    qry='\n",
    "    UPDATE \"%s\" a SET pre_emp = \n",
    "        CASE WHEN b.wages is null THEN 0 ELSE 1 END\n",
    "    FROM wages_2017 b\n",
    "    WHERE b.year= %d AND b.quarter= %d --grab correct quarter\n",
    "        AND a.ssn=b.ssn AND a.uiacct=b.uiacct --ensure same job\n",
    "    '\n",
    "    full_qry = sprintf(qry, table[i], preYr[i], preQ[i])\n",
    "    dbExecute(con, full_qry)\n",
    "    }"
   ]
  },
  {
   "cell_type": "code",
   "execution_count": null,
   "metadata": {},
   "outputs": [],
   "source": [
    "# see values of pre_emp\n",
    "qry = \"\n",
    "select distinct(pre_emp)\n",
    "from q4_2016\n",
    "\"\n",
    "dbGetQuery(con, qry)"
   ]
  },
  {
   "cell_type": "code",
   "execution_count": null,
   "metadata": {},
   "outputs": [],
   "source": [
    "# order employment flags properly for 0-5 index below\n",
    "postYr = c(2017, 2017, 2017, 2017, 2018)\n",
    "postQ = c(1, 2, 3, 4, 1)\n",
    "\n",
    "# loop through an integer list\n",
    "# 0 is 4th lag (4 quarters ago)\n",
    "\n",
    "for(i in 1:5){\n",
    "    # update this quarter employment flag\n",
    "    qry='\n",
    "    UPDATE \"%s\" a SET post_emp = \n",
    "        CASE WHEN b.wages is NULL THEN 0 ELSE 1 END\n",
    "    FROM wages_2017 b\n",
    "    WHERE b.year= %d AND b.quarter= %d --grab correct quarter\n",
    "        AND a.ssn=b.ssn AND a.uiacct=b.uiacct --ensure same job\n",
    "    '\n",
    "    full_qry = sprintf(qry, table[i], postYr[i], postQ[i])\n",
    "    dbExecute(con, full_qry)\n",
    "    }"
   ]
  },
  {
   "cell_type": "code",
   "execution_count": null,
   "metadata": {},
   "outputs": [],
   "source": [
    "# take a peek at one of the tables\n",
    "qry <- \"\n",
    "select *\n",
    "from q4_2016\n",
    "limit 5\n",
    "\"\n",
    "dbGetQuery(con, qry)"
   ]
  },
  {
   "cell_type": "markdown",
   "metadata": {},
   "source": [
    "Now that we have pre and post-quarter employment indicators for each `ssn`/`uiacct` combination, we can add hiring and separation indicators into these tables."
   ]
  },
  {
   "cell_type": "code",
   "execution_count": null,
   "metadata": {},
   "outputs": [],
   "source": [
    "new_cols <- c('sep', 'hire')\n",
    "\n",
    "for(col in new_cols){\n",
    "    for(i in 1:5){\n",
    "        qry='\n",
    "        ALTER TABLE \"%s\" ADD COLUMN \"%s\" int\n",
    "        '\n",
    "        full_qry = sprintf(qry,table[i], col)\n",
    "        dbExecute(con, full_qry)\n",
    "    }\n",
    "}"
   ]
  },
  {
   "cell_type": "code",
   "execution_count": null,
   "metadata": {},
   "outputs": [],
   "source": [
    "for(i in 1:5){\n",
    "    qry='\n",
    "    UPDATE \"%s\" a SET sep = \n",
    "    CASE WHEN post_emp is null THEN 1 ELSE 0 END\n",
    "    '\n",
    "    full_qry = sprintf(qry,table[i])\n",
    "    dbExecute(con, full_qry)\n",
    "}"
   ]
  },
  {
   "cell_type": "code",
   "execution_count": null,
   "metadata": {},
   "outputs": [],
   "source": [
    "# look at different values of sep\n",
    "qry = '\n",
    "select count(*), sep \n",
    "from q4_2016 group by sep\n",
    "'\n",
    "\n",
    "dbGetQuery(con, qry)"
   ]
  },
  {
   "cell_type": "code",
   "execution_count": null,
   "metadata": {},
   "outputs": [],
   "source": [
    "for(i in 1:5){\n",
    "    qry='\n",
    "    UPDATE \"%s\" a SET hire = \n",
    "    CASE WHEN pre_emp is null THEN 1 ELSE 0 END\n",
    "    '\n",
    "    full_qry = sprintf(qry,table[i])\n",
    "    dbExecute(con, full_qry)\n",
    "}"
   ]
  },
  {
   "cell_type": "code",
   "execution_count": null,
   "metadata": {},
   "outputs": [],
   "source": [
    "# look at one of the tables again\n",
    "qry = '\n",
    "select * \n",
    "from q4_2016 \n",
    "limit 5'\n",
    "dbGetQuery(con, qry)"
   ]
  },
  {
   "cell_type": "markdown",
   "metadata": {},
   "source": [
    "### Aggregate by Employer\n",
    "\n",
    "At this point, we have all the information we need to aggregate on the `uiacct` values. We will do these aggregations in separate steps, as they will require separate `WHERE` clauses. In the first, we will find values for all measures outside of the full-quarter employee-related ones."
   ]
  },
  {
   "cell_type": "code",
   "execution_count": null,
   "metadata": {},
   "outputs": [],
   "source": [
    "emp_tabs <- c(\"gen_q1\", \"gen_q2\", \"gen_q3\", \"gen_q4\")\n",
    "for(i in 1:4){    \n",
    "    qry = '\n",
    "    create temp table \"%s\" as\n",
    "    select uiacct,  naics_3_digit, quarter, count(ssn) as num_employed,\n",
    "    sum(wages)/count(ssn) as avg_earnings, sum(wages) as total_earnings,\n",
    "    percentile_disc(0.25) within group (order by wages) as bottom_25_pctile,\n",
    "    percentile_disc(0.75) within group (order by wages) as top_25_pctile,\n",
    "    sum(hire) as num_hire, sum(sep) as num_sep\n",
    "    from \"%s\"\n",
    "    group by uiacct, naics_3_digit, quarter\n",
    "    '\n",
    "    full_qry = sprintf(qry, emp_tabs[i], table[i+1])\n",
    "    dbGetQuery(con, full_qry)\n",
    "    }"
   ]
  },
  {
   "cell_type": "code",
   "execution_count": null,
   "metadata": {},
   "outputs": [],
   "source": [
    "# see these stats aggregated by employer for q1\n",
    "qry = \"\n",
    "select * from gen_q1 limit 5\n",
    "\"\n",
    "dbGetQuery(con, qry)"
   ]
  },
  {
   "cell_type": "markdown",
   "metadata": {},
   "source": [
    "In a separate table, we can find all of the statistics related to full-quarter employment."
   ]
  },
  {
   "cell_type": "code",
   "execution_count": null,
   "metadata": {},
   "outputs": [],
   "source": [
    "full_tabs <- c(\"fq_q1\", \"fq_q2\", \"fq_q3\", \"fq_q4\")\n",
    "for(i in 1:4){    \n",
    "    qry = '\n",
    "    create temp table \"%s\" as\n",
    "    select uiacct, naics_3_digit, quarter, count(distinct(ssn)) as full_num_employed, \n",
    "    sum(wages)/count(distinct(ssn)) as full_avg_earnings, sum(wages) as full_total_earnings\n",
    "    from \"%s\"\n",
    "    where post_emp = 1 and pre_emp = 1\n",
    "    group by uiacct, naics_3_digit, quarter\n",
    "    '\n",
    "    full_qry = sprintf(qry, full_tabs[i], table[i+1])\n",
    "    dbGetQuery(con, full_qry)\n",
    "    }"
   ]
  },
  {
   "cell_type": "code",
   "execution_count": null,
   "metadata": {},
   "outputs": [],
   "source": [
    "# see a full quarter employment table\n",
    "qry = \"\n",
    "select * from fq_q1 limit 5\n",
    "\"\n",
    "dbGetQuery(con, qry)"
   ]
  },
  {
   "cell_type": "markdown",
   "metadata": {},
   "source": [
    "Finally, we need information on these employer's hiring, employment, and separation numbers for the prior year to calculate their growth rates."
   ]
  },
  {
   "cell_type": "code",
   "execution_count": null,
   "metadata": {},
   "outputs": [],
   "source": [
    "old_tabs <- c(\"pre_q1\", \"pre_q2\", \"pre_q3\", \"pre_q4\")\n",
    "for(i in 1:4){    \n",
    "    qry = '\n",
    "    create temp table \"%s\" as\n",
    "    select uiacct,  naics_3_digit, quarter, count(ssn) as num_employed_pre, sum(hire) as num_hire_pre, \n",
    "    sum(sep) as num_sep_pre\n",
    "    from \"%s\"\n",
    "    group by uiacct, naics_3_digit, quarter\n",
    "    '\n",
    "    full_qry = sprintf(qry, old_tabs[i], table[i])\n",
    "    dbGetQuery(con, full_qry)\n",
    "    }"
   ]
  },
  {
   "cell_type": "code",
   "execution_count": null,
   "metadata": {},
   "outputs": [],
   "source": [
    "# see quarter before information\n",
    "qry = \"select * from pre_q1 limit 5\"\n",
    "dbGetQuery(con, qry)"
   ]
  },
  {
   "cell_type": "markdown",
   "metadata": {},
   "source": [
    "Now that we have all the information we need in three tables, we can join them together based on the `uiacct` and `naics_3_digit` values."
   ]
  },
  {
   "cell_type": "code",
   "execution_count": null,
   "metadata": {},
   "outputs": [],
   "source": [
    "tabs <- c(\"q1\", \"q2\", \"q3\", \"q4\")\n",
    "for(i in 1:4){\n",
    "    qry = '\n",
    "    create temp table \"%s\" as\n",
    "    select a.*, \n",
    "    case \n",
    "        when b.full_num_employed is null then 0 \n",
    "        else b.full_num_employed end as full_num_employed,\n",
    "    b.full_avg_earnings, b.full_total_earnings\n",
    "    from \"%s\" a\n",
    "    left join \"%s\" b\n",
    "    on a.uiacct = b.uiacct and a.quarter = b.quarter and a.naics_3_digit = b.naics_3_digit\n",
    "    where a.num_employed >= 5\n",
    "    '\n",
    "    full_qry = sprintf(qry, tabs[i], emp_tabs[i], full_tabs[i])\n",
    "    dbExecute(con, full_qry)\n",
    "    }"
   ]
  },
  {
   "cell_type": "code",
   "execution_count": null,
   "metadata": {},
   "outputs": [],
   "source": [
    "# see joined full quarter and current quarter measures\n",
    "qry = \"select * from q1 limit 5\"\n",
    "dbGetQuery(con, qry)"
   ]
  },
  {
   "cell_type": "markdown",
   "metadata": {},
   "source": [
    "To calculate the hiring, separation, and employment growth rates, we will use the following function from <a href='https://academic.oup.com/qje/article-abstract/107/3/819/1873525'>Davis and Haltiwanger (1992)</a> to calculate 1) employment growth rate: `emp_rate`; 2) separation growth rate: `sep_rate`; 3) hire growth rate: `hire_rate`.\n",
    "\n",
    "$$ g_{et}=\\frac{2(x_{et} - x_{e,t-1})}{(x_{et} + x_{e,t-1})} $$\n",
    "\n",
    "In this function, $g_{et}$ represents employment/separation/hire growth rate of employer $e$ at time $t$. $x_{et}$ and $x_{e,t-1}$ are employer $e$'s employment/separation/hire at time $t$ and $t-1$, respectively. According to Davis and Haltiwanger (1992):\n",
    "\n",
    "\"*This growth rate measure is symmetric about zero, and it lies in the closed interval [-2,2] with deaths (births) corresponding to the left (right) endpoint. A virtue of this measure is that it facilitates an integrated treatment of births, deaths, and continuing establishments in the empirical analysis.*\"\n",
    "\n",
    "In other words, a firm with a $ g_{et} = 2$ is a new firm, while a firm with a $ g_{et} = -2$ is a a firm that exited the economy.\n",
    "    \n",
    "> Why do the two endpoints represent firms' deaths and births? Calculate the value of $g_{et}$ when $x_{et}=0$ and when $x_{e,t-1}=0$ and see what you get.\n",
    "\n",
    "In practice, we will apply this formula for every `uiacct` unless it experienced no hires or separations in the current and previous quarters, where instead of getting a divide by zero error, we will assign it to 0."
   ]
  },
  {
   "cell_type": "code",
   "execution_count": null,
   "metadata": {},
   "outputs": [],
   "source": [
    "final_table <- c(\"q1_2017_emp\", \"q2_2017_emp\", \"q3_2017_emp\", \"q4_2017_emp\")\n",
    "for(i in 1:4){\n",
    "    qry = '\n",
    "    create temp table \"%s\" as\n",
    "    select a.uiacct, a.naics_3_digit, a.quarter, a.num_employed, a.avg_earnings, a.total_earnings, a.bottom_25_pctile,\n",
    "    a.top_25_pctile, a.full_num_employed, a.full_avg_earnings, a.full_total_earnings,\n",
    "        (2.0 * (a.num_employed - b.num_employed_pre))/(a.num_employed + b.num_employed_pre) as emp_rate,\n",
    "    case \n",
    "        when a.num_hire = 0 and b.num_hire_pre = 0 then 0\n",
    "        else (2.0 * (a.num_hire - b.num_hire_pre))/(a.num_hire + b.num_hire_pre) end as hire_rate, \n",
    "    case\n",
    "        when a.num_sep = 0 and b.num_sep_pre = 0 then 0\n",
    "        else (2.0 * (a.num_sep - b.num_sep_pre))/(a.num_sep + b.num_sep_pre) end as sep_rate\n",
    "    from \"%s\" a\n",
    "    left join \"%s\" b\n",
    "    on a.uiacct = b.uiacct and a.naics_3_digit = b.naics_3_digit \n",
    "    '\n",
    "    full_qry = sprintf(qry, final_table[i], tabs[i], old_tabs[i])\n",
    "    dbExecute(con, full_qry)\n",
    "    }"
   ]
  },
  {
   "cell_type": "markdown",
   "metadata": {},
   "source": [
    "Since these four tables contain the same exact column names, we can simply union them to create our final output: `employers_2017`."
   ]
  },
  {
   "cell_type": "markdown",
   "metadata": {},
   "source": [
    "    create table ada_tdc_2020.employers_2017 as\n",
    "    select * from q1_2017_emp\n",
    "    union all\n",
    "    select * from q2_2017_emp\n",
    "    union all\n",
    "    select * from q3_2017_emp\n",
    "    union all\n",
    "    select * from q4_2017_emp"
   ]
  }
 ],
 "metadata": {
  "kernelspec": {
   "display_name": "R",
   "language": "R",
   "name": "adrf_r"
  },
  "language_info": {
   "codemirror_mode": "r",
   "file_extension": ".r",
   "mimetype": "text/x-r-source",
   "name": "R",
   "pygments_lexer": "r",
   "version": "3.6.3"
  }
 },
 "nbformat": 4,
 "nbformat_minor": 4
}
